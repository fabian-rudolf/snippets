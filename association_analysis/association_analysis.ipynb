{
 "cells": [
  {
   "cell_type": "code",
   "execution_count": 132,
   "id": "hungarian-chance",
   "metadata": {},
   "outputs": [],
   "source": [
    "class AssociationAnalysis:\n",
    "    \n",
    "    def __init__(self, D, verbose=True, lemmatization=True, min_support=3/10, min_confidence=6/10, autostart=True):\n",
    "        '''\n",
    "            D is the data basis containing all transaction sets.\n",
    "            One transaction for example contains the set of items you bought (e.g. `{'strawberries', 'blueberries'}`).\n",
    "            The cardinality of D is the amount of transactions in the data basis D.\n",
    "            D contains items from the statistical population of items P (all possible items).\n",
    "            \n",
    "            X is any subset of the population P (k-item-set with k>=1) or a string which will be automatically converted to a 1-element subset (e.g. X='lemon juice' will be converted to X={'lemon juice'}).\n",
    "            \n",
    "            Lemmatization is enabled by default and requires downloaded lemmatization packages from nltk:\n",
    "            If you haven't done so, please execute:\n",
    "                `\n",
    "                import nltk\n",
    "                nltk.download()\n",
    "                `\n",
    "            By default (`autostart=True`), the association analysis will be carried out immediately. \n",
    "            If you set autostart to False, you can manually start the analysis by calling the `AssociationAnalysis.apriori()` method.\n",
    "        \n",
    "            Supports, confidences and lifts are memoized once calculated.\n",
    "        '''\n",
    "        # remove unnecessary object variables (incl. P_...) and instead pass as parameter \n",
    "        # fix lemmatization for sets (maybe by converting unhashable sets to frozensets then back to sets)\n",
    "        \n",
    "        self.verbose = verbose\n",
    "        self.lemmatization = lemmatization\n",
    "        self.min_support = min_support\n",
    "        self.min_confidence = min_confidence\n",
    "        \n",
    "        if self.lemmatization:\n",
    "            import nltk\n",
    "            # nltk.download() required\n",
    "            from nltk.stem import WordNetLemmatizer \n",
    "            self.lemmatizer = WordNetLemmatizer()\n",
    "            self.D = self.lemmatize_list_of_sets(D)\n",
    "        else:\n",
    "            self.D = D\n",
    "        \n",
    "        self.D_cardinality = len(D)\n",
    "\n",
    "        self.P = set().union(*D)\n",
    "        self.P_cardinality = len(self.P)\n",
    "        self.P_remaining_items = []\n",
    "        self.P_remaining_items = list(self.P)\n",
    "        self.P_remaining_subsets = {}\n",
    "        self.P_remaining_subsets[1] = self.P\n",
    "        self.supports = {} # key is X\n",
    "        self.confidences = {} # key is tuple of two elements (X, Y)\n",
    "        self.lifts = {} # key is tuple of two elements (X, Y)\n",
    "        \n",
    "        if autostart: self.apriori()\n",
    "    \n",
    "    def n(self, X, prepare=False):\n",
    "        '''\n",
    "            Absolute prevalence of X in data basis D\n",
    "            Requirement: |X| >= 1\n",
    "        '''\n",
    "        if prepare:\n",
    "            X = self.prepare_subset(X)\n",
    "        if not isinstance(X, set):\n",
    "            raise ValueError(f'Given parameter X is not a set. X={X}')\n",
    "        n = 0\n",
    "        for transaction in self.D:\n",
    "            if X.issubset(transaction): \n",
    "                if X: n += 1\n",
    "        # if self.verbose: self.latex(rf'$n(${X}$)={n}$')\n",
    "        return n\n",
    "    \n",
    "    def support(self, *X, prepare=False):\n",
    "        '''\n",
    "            support(X_1, X_2, ..., X_n) = support(*X) for a given interable X.\n",
    "            The support is the relative prevalence of item(-s) in data basis D.\n",
    "            It shows, in which percentage of transactions the given item set was a subset of the transaction set.\n",
    "            If `prepare=True`, prepare the parameter `*X` via `self.prepare_subset()`.\n",
    "        '''\n",
    "        if prepare:\n",
    "            X = self.prepare_subset(X)\n",
    "        else:\n",
    "            X = self.X_to_subset(X)\n",
    "        \n",
    "        memoize_dict = self.supports\n",
    "        memoize_key = self.set_or_tuple_to_hashable_set(X)\n",
    "        memoize_read = self.memoize_read(memoize_dict, memoize_key)\n",
    "        if memoize_read:\n",
    "            return memoize_read\n",
    "        \n",
    "        else:  \n",
    "            n_X = self.n(X,prepare=prepare)\n",
    "\n",
    "            support = n_X/self.D_cardinality\n",
    "\n",
    "            self.memoize_save(memoize_dict, memoize_key, support)\n",
    "\n",
    "            output_string = rf'$support(X = $ {X}$)$ $= \\frac{{n(X)}}{{|D|}} = \\frac{{{n_X}}}{{{self.D_cardinality}}}$'\n",
    "            self.color_output_if(output_string=output_string, condition=(support < self.min_support))\n",
    "            return support\n",
    "\n",
    "    def prepare_X_and_Y_from_Z(self, *Z, prepare=False):\n",
    "        '''\n",
    "            Input: *Z as parameter list of items\n",
    "            Output: X, Y\n",
    "            Split the list of parameters into `X` and `Y`.\n",
    "            `Y` is the one-element set containing only the last parameter passed in `*Z`\n",
    "            `X` is the set of all other parameters in `*Z` except for `Y`.\n",
    "            Cardinality of `y` is exactly 1.\n",
    "            Minimum cardinality of `Z` is 2.\n",
    "        '''\n",
    "        if prepare:\n",
    "            Y = self.prepare_subset(Z[-1])\n",
    "            X = self.prepare_subset(Z[:-1])\n",
    "        else:\n",
    "            Y = self.scalar_to_set(Z[-1]) # only last element\n",
    "            X = self.tuple_to_set(Z[:-1]) # every element but the last          \n",
    "        return X, Y\n",
    "\n",
    "    def memoize_read(self, dictionary, key):\n",
    "        if key in dictionary:\n",
    "            return dictionary[key] \n",
    "        else:\n",
    "            return None\n",
    "\n",
    "    def memoize_save(self, dictionary, key, value):\n",
    "        dictionary[key] = value\n",
    "\n",
    "    def memoize_X_Y_key(self, X, Y):\n",
    "        return (self.set_or_tuple_to_hashable_set(X), self.set_or_tuple_to_hashable_set(Y))\n",
    "\n",
    "    def confidence(self, *Z, prepare=False):\n",
    "        '''\n",
    "            $confidence(*Z) = confidence(*X, *Y)$\n",
    "            $ = confidence(X_1, X_2, ..., X_n, Y) = confidence(X \\to Y) = \\frac{n(X \\cup Y)}{n(X)}$\n",
    "            \n",
    "            If `prepare=True`, prepare the parameters `*X` and `y` via `self.prepare_subset()`.\n",
    "        '''\n",
    "        X, Y = self.prepare_X_and_Y_from_Z(*Z)\n",
    "        \n",
    "        memoize_dict = self.confidences\n",
    "        memoize_key = self.memoize_X_Y_key(X, Y)\n",
    "        memoize_read = self.memoize_read(memoize_dict, memoize_key)\n",
    "        \n",
    "        if memoize_read:\n",
    "            return memoize_read\n",
    "        \n",
    "        else:\n",
    "            n_X = self.n(X,prepare=prepare)\n",
    "\n",
    "            X_union_Y = set().union(X, Y)\n",
    "            n_X_union_Y = self.n(X_union_Y)\n",
    "            if n_X == 0:\n",
    "                confidence = None\n",
    "            else:\n",
    "                confidence = n_X_union_Y/n_X\n",
    "\n",
    "            self.memoize_save(memoize_dict, memoize_key, confidence)\n",
    "\n",
    "            output_string = rf'$confidence(X= $ {X} $ \\to Y=$ {Y}$)$ $ = \\frac{{n(X \\cup Y)}}{{n(X)}} = \\frac{{{n_X_union_Y}}}{{{n_X}}}$'\n",
    "            self.color_output_if(output_string=output_string, condition=(confidence < self.min_confidence))\n",
    "\n",
    "            return confidence\n",
    "    \n",
    "    def lift(self, *Z, prepare=False):\n",
    "        '''\n",
    "        $lift(*Z) = lift(*X, *Y) = lift(X_1, X_2, ..., X_n, Y) = lift(X \\to Y) = \\frac{confidence(X \\to y)}{support(Y)}$\n",
    "        '''\n",
    "        X, Y = self.prepare_X_and_Y_from_Z(*Z)\n",
    "        confidence = self.confidence(*Z)\n",
    "        support = self.support(*Y)\n",
    "        \n",
    "        memoize_dict = self.lifts\n",
    "        memoize_key = self.memoize_X_Y_key(X, Y)\n",
    "        memoize_read = self.memoize_read(memoize_dict, memoize_key)\n",
    "        \n",
    "        if memoize_read:\n",
    "            return memoize_read\n",
    "        else:\n",
    "            lift = confidence / support\n",
    "            \n",
    "            self.memoize_save(memoize_dict, memoize_key, lift)\n",
    "            \n",
    "            if self.verbose:\n",
    "                output_string = rf'$lift(X= $ {X} $ \\to Y=$ {Y}$)$ $ = \\frac{{confidence(X \\to Y)}}{{support(Y)}} = \\frac{{{confidence}}}{{{support}}}$'\n",
    "                self.color_output_if(output_string=output_string, condition=(lift < 1))\n",
    "            return lift\n",
    "        \n",
    "\n",
    "    def filter_P_by_min_support(self, k):\n",
    "        remove_sets = [X for X, support_value in self.supports.items() if support_value < self.min_support]\n",
    "                \n",
    "        P_snapshot_k = self.P_remaining_subsets[k]\n",
    "        self.P_remaining_subsets[k] = []\n",
    "        for subset in P_snapshot_k:\n",
    "            if subset not in remove_sets:\n",
    "                self.P_remaining_subsets[k].append(subset)\n",
    "        self.P_remaining_items = frozenset().union(*self.P_remaining_subsets[k])\n",
    "    \n",
    "    def apriori(self):\n",
    "        frequent_subsets = self.apriori_step_1()\n",
    "        self.apriori_step_2(frequent_subsets)\n",
    "\n",
    "    def set_or_tuple_to_hashable_set(self, X):\n",
    "        '''\n",
    "            Conversion of X to a hashable frozenset.\n",
    "            Input: A given tuple or set X \n",
    "            Output: hashable frozenset\n",
    "        '''\n",
    "        if isinstance(X, tuple):\n",
    "            generate_frozenset_from = self.tuple_to_set(X)\n",
    "        else: # e.g. if isinstance(X, set)\n",
    "            generate_frozenset_from = X\n",
    "        return frozenset(generate_frozenset_from)\n",
    "        \n",
    "    def apriori_step_1(self):\n",
    "        '''\n",
    "            Calculate frequent subsets $F$ with support >= min_support.\n",
    "        '''\n",
    "        import itertools\n",
    "        \n",
    "        if self.verbose: self.latex(\"### Supports\")\n",
    "        k = 1\n",
    "        while(k <= len(self.P) and self.P_remaining_items):\n",
    "            if self.verbose: self.latex(f\"$k = {k}$\")\n",
    "            \n",
    "            self.P_remaining_subsets[k] = [frozenset(X) for X in itertools.combinations(list(self.P_remaining_items), k)]\n",
    "            for X in self.P_remaining_subsets[k]:\n",
    "                X_hashable_set = self.set_or_tuple_to_hashable_set(X)\n",
    "                self.supports[X_hashable_set] = self.support(*X)\n",
    "            self.filter_P_by_min_support(k)\n",
    "            k += 1\n",
    "        frequent_subsets = [set([*X]) for X, support_value in self.supports.items() if support_value >= self.min_support]\n",
    "        if self.verbose:\n",
    "            frequent_subsets_output = \"### Frequent subsets $F$\"\n",
    "            frequent_subsets_output += '\\n' + ', \\n'.join(str(subset) for subset in frequent_subsets)\n",
    "            self.latex(frequent_subsets_output)\n",
    "        return frequent_subsets\n",
    "    \n",
    "    def apriori_step_2(self, frequent_subsets):\n",
    "        '''\n",
    "            Calculate rules of form $confidence(X \\to Y) \\land |Y| = 1 \n",
    "            \\land confidence >= min_{confidence}$ for frequent subsets $F$.\n",
    "        '''\n",
    "        for Z in frequent_subsets:\n",
    "            Z_ordered = list(Z)\n",
    "            k = 1\n",
    "            H = {}\n",
    "            # put every element in the frequent subset X last once to calculate all confidence rules\n",
    "            while k < len(Z_ordered)-1:\n",
    "                # current Y at position k\n",
    "                Z_without_current_Y = Z_ordered[:k] + Z_ordered[(k + 1):]\n",
    "                X = Z_without_current_Y\n",
    "                if Z_ordered[k]:\n",
    "                    Y = Z_ordered[k]\n",
    "                    confidence_current_Y = self.confidence(*X, Y)\n",
    "                    \n",
    "                    if (confidence_current_Y > self.min_confidence):\n",
    "                        lift_k = self.lift(*Z_without_current_Y)\n",
    "                        \n",
    "                k = k + 1\n",
    "            \n",
    "    def tuple_to_set(self, X):\n",
    "        '''\n",
    "            Helper function to convert a given n-tuple to an n-element set.\n",
    "        '''\n",
    "        if isinstance(X, tuple):\n",
    "            X = set(X)\n",
    "        return X\n",
    "    \n",
    "    def scalar_to_set(self, X):\n",
    "        '''\n",
    "            Helper function to convert a given string or int scalar value to a 1-element set\n",
    "        '''\n",
    "        if isinstance(X, str) or isinstance(X, int):\n",
    "            X = set([X])\n",
    "        return X\n",
    "    \n",
    "    def X_to_subset(self, X):\n",
    "        '''\n",
    "            If X is not a subset, but an iterable (e.g. tuple), \n",
    "            convert the given k-element iterable to a subset including all k-elements.\n",
    "        '''\n",
    "        X = self.tuple_to_set(X)        \n",
    "        X = self.scalar_to_set(X)\n",
    "        return X\n",
    "    \n",
    "    def prepare_subset(self, X, lemmatization=None):\n",
    "        '''\n",
    "            Helper function to prepare a subset X.\n",
    "            If a tuple is given, convert the n-element tuple to an n-element set.\n",
    "            If a string is given, convert the string to a 1-element set.\n",
    "            If lemmatization is enabled, lemmatize the set.\n",
    "        '''\n",
    "        if lemmatization is None:\n",
    "            lemmatization = self.lemmatization   \n",
    "            \n",
    "        X = self.X_to_subset(X)\n",
    "        \n",
    "        if lemmatization:\n",
    "            X = self.lemmatize_set(X)\n",
    "        return X\n",
    "\n",
    "    def lemmatize_list_of_sets(self, D):\n",
    "        return [self.lemmatize_set(transaction) for transaction in D]\n",
    "    def lemmatize_set(self, set_of_items):\n",
    "        import collections\n",
    "        if(isinstance(set_of_items, collections.Hashable)):\n",
    "            return {self.l(item) for item in set_of_items}\n",
    "        else:\n",
    "            return set_of_items\n",
    "    def l(self, item):\n",
    "        '''\n",
    "         Helper function l(item) = lemmatize(item) returns the lemmatized version of a string item.\n",
    "        '''\n",
    "        import collections\n",
    "        if(isinstance(item, collections.Hashable)):\n",
    "            l = self.lemmatizer.lemmatize(item)\n",
    "        else:\n",
    "            l = item\n",
    "        return l\n",
    "\n",
    "    def latex(self, string):\n",
    "        '''\n",
    "        Helper function to output latex in verbose mode.\n",
    "        '''\n",
    "        if self.verbose:\n",
    "            from IPython.display import display, Markdown\n",
    "            display(Markdown(rf\"\"\"{string}\"\"\"))\n",
    "            \n",
    "    def color_output_if(self, output_string, condition, condition_color='#ccc', default_color='#000'):\n",
    "        '''\n",
    "            If verbose=True:\n",
    "                If `condition`, display `output_string` in `condition_color` (by default the lighter color HEX #ccc).\n",
    "                Else, display `output_string` in the default color black (HEX #000).\n",
    "        '''\n",
    "        if self.verbose:\n",
    "            if condition:\n",
    "                output_string = rf'<font color=\"{condition_color}\">{output_string}</font>'    \n",
    "            self.latex(output_string)"
   ]
  },
  {
   "cell_type": "code",
   "execution_count": 133,
   "id": "heated-likelihood",
   "metadata": {},
   "outputs": [
    {
     "data": {
      "text/markdown": [
       "### Supports"
      ],
      "text/plain": [
       "<IPython.core.display.Markdown object>"
      ]
     },
     "metadata": {},
     "output_type": "display_data"
    },
    {
     "data": {
      "text/markdown": [
       "$k = 1$"
      ],
      "text/plain": [
       "<IPython.core.display.Markdown object>"
      ]
     },
     "metadata": {},
     "output_type": "display_data"
    },
    {
     "data": {
      "text/markdown": [
       "$support(X = $ {'toothbrush'}$)$ $= \\frac{n(X)}{|D|} = \\frac{3}{5}$"
      ],
      "text/plain": [
       "<IPython.core.display.Markdown object>"
      ]
     },
     "metadata": {},
     "output_type": "display_data"
    },
    {
     "data": {
      "text/markdown": [
       "$support(X = $ {'oatmilk'}$)$ $= \\frac{n(X)}{|D|} = \\frac{3}{5}$"
      ],
      "text/plain": [
       "<IPython.core.display.Markdown object>"
      ]
     },
     "metadata": {},
     "output_type": "display_data"
    },
    {
     "data": {
      "text/markdown": [
       "$support(X = $ {'lemon juice'}$)$ $= \\frac{n(X)}{|D|} = \\frac{4}{5}$"
      ],
      "text/plain": [
       "<IPython.core.display.Markdown object>"
      ]
     },
     "metadata": {},
     "output_type": "display_data"
    },
    {
     "data": {
      "text/markdown": [
       "$support(X = $ {'strawberries'}$)$ $= \\frac{n(X)}{|D|} = \\frac{4}{5}$"
      ],
      "text/plain": [
       "<IPython.core.display.Markdown object>"
      ]
     },
     "metadata": {},
     "output_type": "display_data"
    },
    {
     "data": {
      "text/markdown": [
       "<font color=\"#ccc\">$support(X = $ {'lentils'}$)$ $= \\frac{n(X)}{|D|} = \\frac{1}{5}$</font>"
      ],
      "text/plain": [
       "<IPython.core.display.Markdown object>"
      ]
     },
     "metadata": {},
     "output_type": "display_data"
    },
    {
     "data": {
      "text/markdown": [
       "$k = 2$"
      ],
      "text/plain": [
       "<IPython.core.display.Markdown object>"
      ]
     },
     "metadata": {},
     "output_type": "display_data"
    },
    {
     "data": {
      "text/markdown": [
       "$support(X = $ {'toothbrush', 'oatmilk'}$)$ $= \\frac{n(X)}{|D|} = \\frac{2}{5}$"
      ],
      "text/plain": [
       "<IPython.core.display.Markdown object>"
      ]
     },
     "metadata": {},
     "output_type": "display_data"
    },
    {
     "data": {
      "text/markdown": [
       "$support(X = $ {'toothbrush', 'lemon juice'}$)$ $= \\frac{n(X)}{|D|} = \\frac{3}{5}$"
      ],
      "text/plain": [
       "<IPython.core.display.Markdown object>"
      ]
     },
     "metadata": {},
     "output_type": "display_data"
    },
    {
     "data": {
      "text/markdown": [
       "$support(X = $ {'toothbrush', 'strawberries'}$)$ $= \\frac{n(X)}{|D|} = \\frac{2}{5}$"
      ],
      "text/plain": [
       "<IPython.core.display.Markdown object>"
      ]
     },
     "metadata": {},
     "output_type": "display_data"
    },
    {
     "data": {
      "text/markdown": [
       "$support(X = $ {'oatmilk', 'lemon juice'}$)$ $= \\frac{n(X)}{|D|} = \\frac{2}{5}$"
      ],
      "text/plain": [
       "<IPython.core.display.Markdown object>"
      ]
     },
     "metadata": {},
     "output_type": "display_data"
    },
    {
     "data": {
      "text/markdown": [
       "$support(X = $ {'oatmilk', 'strawberries'}$)$ $= \\frac{n(X)}{|D|} = \\frac{2}{5}$"
      ],
      "text/plain": [
       "<IPython.core.display.Markdown object>"
      ]
     },
     "metadata": {},
     "output_type": "display_data"
    },
    {
     "data": {
      "text/markdown": [
       "$support(X = $ {'lemon juice', 'strawberries'}$)$ $= \\frac{n(X)}{|D|} = \\frac{3}{5}$"
      ],
      "text/plain": [
       "<IPython.core.display.Markdown object>"
      ]
     },
     "metadata": {},
     "output_type": "display_data"
    },
    {
     "data": {
      "text/markdown": [
       "$k = 3$"
      ],
      "text/plain": [
       "<IPython.core.display.Markdown object>"
      ]
     },
     "metadata": {},
     "output_type": "display_data"
    },
    {
     "data": {
      "text/markdown": [
       "$support(X = $ {'toothbrush', 'oatmilk', 'lemon juice'}$)$ $= \\frac{n(X)}{|D|} = \\frac{2}{5}$"
      ],
      "text/plain": [
       "<IPython.core.display.Markdown object>"
      ]
     },
     "metadata": {},
     "output_type": "display_data"
    },
    {
     "data": {
      "text/markdown": [
       "<font color=\"#ccc\">$support(X = $ {'toothbrush', 'oatmilk', 'strawberries'}$)$ $= \\frac{n(X)}{|D|} = \\frac{1}{5}$</font>"
      ],
      "text/plain": [
       "<IPython.core.display.Markdown object>"
      ]
     },
     "metadata": {},
     "output_type": "display_data"
    },
    {
     "data": {
      "text/markdown": [
       "$support(X = $ {'toothbrush', 'lemon juice', 'strawberries'}$)$ $= \\frac{n(X)}{|D|} = \\frac{2}{5}$"
      ],
      "text/plain": [
       "<IPython.core.display.Markdown object>"
      ]
     },
     "metadata": {},
     "output_type": "display_data"
    },
    {
     "data": {
      "text/markdown": [
       "<font color=\"#ccc\">$support(X = $ {'oatmilk', 'lemon juice', 'strawberries'}$)$ $= \\frac{n(X)}{|D|} = \\frac{1}{5}$</font>"
      ],
      "text/plain": [
       "<IPython.core.display.Markdown object>"
      ]
     },
     "metadata": {},
     "output_type": "display_data"
    },
    {
     "data": {
      "text/markdown": [
       "$k = 4$"
      ],
      "text/plain": [
       "<IPython.core.display.Markdown object>"
      ]
     },
     "metadata": {},
     "output_type": "display_data"
    },
    {
     "data": {
      "text/markdown": [
       "<font color=\"#ccc\">$support(X = $ {'toothbrush', 'oatmilk', 'lemon juice', 'strawberries'}$)$ $= \\frac{n(X)}{|D|} = \\frac{1}{5}$</font>"
      ],
      "text/plain": [
       "<IPython.core.display.Markdown object>"
      ]
     },
     "metadata": {},
     "output_type": "display_data"
    },
    {
     "data": {
      "text/markdown": [
       "### Frequent subsets $F$\n",
       "{'toothbrush'}, \n",
       "{'oatmilk'}, \n",
       "{'lemon juice'}, \n",
       "{'strawberries'}, \n",
       "{'toothbrush', 'oatmilk'}, \n",
       "{'toothbrush', 'lemon juice'}, \n",
       "{'toothbrush', 'strawberries'}, \n",
       "{'oatmilk', 'lemon juice'}, \n",
       "{'oatmilk', 'strawberries'}, \n",
       "{'lemon juice', 'strawberries'}, \n",
       "{'toothbrush', 'oatmilk', 'lemon juice'}, \n",
       "{'toothbrush', 'lemon juice', 'strawberries'}"
      ],
      "text/plain": [
       "<IPython.core.display.Markdown object>"
      ]
     },
     "metadata": {},
     "output_type": "display_data"
    },
    {
     "data": {
      "text/markdown": [
       "$confidence(X= $ {'toothbrush', 'lemon juice'} $ \\to Y=$ {'oatmilk'}$)$ $ = \\frac{n(X \\cup Y)}{n(X)} = \\frac{2}{3}$"
      ],
      "text/plain": [
       "<IPython.core.display.Markdown object>"
      ]
     },
     "metadata": {},
     "output_type": "display_data"
    },
    {
     "data": {
      "text/markdown": [
       "$confidence(X= $ {'toothbrush'} $ \\to Y=$ {'lemon juice'}$)$ $ = \\frac{n(X \\cup Y)}{n(X)} = \\frac{3}{3}$"
      ],
      "text/plain": [
       "<IPython.core.display.Markdown object>"
      ]
     },
     "metadata": {},
     "output_type": "display_data"
    },
    {
     "data": {
      "text/markdown": [
       "$lift(X= $ {'toothbrush'} $ \\to Y=$ {'lemon juice'}$)$ $ = \\frac{confidence(X \\to Y)}{support(Y)} = \\frac{1.0}{0.8}$"
      ],
      "text/plain": [
       "<IPython.core.display.Markdown object>"
      ]
     },
     "metadata": {},
     "output_type": "display_data"
    },
    {
     "data": {
      "text/markdown": [
       "$confidence(X= $ {'toothbrush', 'strawberries'} $ \\to Y=$ {'lemon juice'}$)$ $ = \\frac{n(X \\cup Y)}{n(X)} = \\frac{2}{2}$"
      ],
      "text/plain": [
       "<IPython.core.display.Markdown object>"
      ]
     },
     "metadata": {},
     "output_type": "display_data"
    },
    {
     "data": {
      "text/markdown": [
       "$confidence(X= $ {'toothbrush'} $ \\to Y=$ {'strawberries'}$)$ $ = \\frac{n(X \\cup Y)}{n(X)} = \\frac{2}{3}$"
      ],
      "text/plain": [
       "<IPython.core.display.Markdown object>"
      ]
     },
     "metadata": {},
     "output_type": "display_data"
    },
    {
     "data": {
      "text/markdown": [
       "<font color=\"#ccc\">$lift(X= $ {'toothbrush'} $ \\to Y=$ {'strawberries'}$)$ $ = \\frac{confidence(X \\to Y)}{support(Y)} = \\frac{0.6666666666666666}{0.8}$</font>"
      ],
      "text/plain": [
       "<IPython.core.display.Markdown object>"
      ]
     },
     "metadata": {},
     "output_type": "display_data"
    }
   ],
   "source": [
    "D = []\n",
    "D.append({'strawberries','lemon juice'})\n",
    "D.append({'strawberries', 'toothbrush', 'oatmilk', 'lentils', 'lemon juice'})\n",
    "D.append({'lemon juice', 'toothbrush', 'oatmilk'})\n",
    "D.append({'strawberries', 'lemon juice', 'toothbrush'})\n",
    "D.append({'strawberries', 'oatmilk'})\n",
    "\n",
    "association_analysis = AssociationAnalysis(D,lemmatization=True)\n",
    "# association_analysis.support('strawberries', 'lemon juice',prepare=True)\n",
    "# association_analysis.confidence('strawberries', 'lemon juice', 'toothbrush', prepare=True)"
   ]
  },
  {
   "cell_type": "code",
   "execution_count": null,
   "id": "entertaining-release",
   "metadata": {},
   "outputs": [],
   "source": []
  }
 ],
 "metadata": {
  "kernelspec": {
   "display_name": "Python 3",
   "language": "python",
   "name": "python3"
  },
  "language_info": {
   "codemirror_mode": {
    "name": "ipython",
    "version": 3
   },
   "file_extension": ".py",
   "mimetype": "text/x-python",
   "name": "python",
   "nbconvert_exporter": "python",
   "pygments_lexer": "ipython3",
   "version": "3.7.9"
  }
 },
 "nbformat": 4,
 "nbformat_minor": 5
}
