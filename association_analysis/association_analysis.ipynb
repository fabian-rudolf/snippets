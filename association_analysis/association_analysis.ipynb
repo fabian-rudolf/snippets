{
 "cells": [
  {
   "cell_type": "code",
   "execution_count": 105,
   "id": "hungarian-chance",
   "metadata": {},
   "outputs": [],
   "source": [
    "# https://medium.com/analytics-vidhya/association-analysis-in-python-2b955d0180c\n",
    "\n",
    "class AssociationAnalysis:\n",
    "    \n",
    "    def __init__(self, D, verbose=True, lemmatization=True, min_support=3/5):\n",
    "        '''\n",
    "            D is the data basis containing all transaction sets.\n",
    "            One transaction for example contains the set of items you bought (e.g. `{'strawberries', 'blueberries'}`).\n",
    "            The cardinality of D is the amount of transactions in the data basis D.\n",
    "            D contains items from the statistical population of items P (all possible items).\n",
    "            \n",
    "            X is any subset of the population P (k-item-set with k>=1) or a string which will be automatically converted to a 1-element subset (e.g. X='lemon juice' will be converted to X={'lemon juice'}).\n",
    "            \n",
    "            Lemmatization is enabled by default and requires downloaded lemmatization packages from nltk:\n",
    "            If you haven't done so, please execute:\n",
    "                `\n",
    "                import nltk\n",
    "                nltk.download()\n",
    "                `\n",
    "        '''\n",
    "        \n",
    "        self.verbose = verbose\n",
    "        self.lemmatization = lemmatization\n",
    "        self.min_support = min_support\n",
    "        \n",
    "        if self.lemmatization:\n",
    "            import nltk\n",
    "            # nltk.download() required\n",
    "            from nltk.stem import WordNetLemmatizer \n",
    "            self.lemmatizer = WordNetLemmatizer()\n",
    "            self.D = self.lemmatize_list_of_sets(D)\n",
    "        else:\n",
    "            self.D = D\n",
    "        \n",
    "        self.D_cardinality = len(D)\n",
    "\n",
    "        self.P = set().union(*D)\n",
    "        self.P_cardinality = len(self.P)\n",
    "        self.P_remaining_items = []\n",
    "        self.P_remaining_items = list(self.P)\n",
    "        self.P_remaining_subsets = {}\n",
    "        self.P_remaining_subsets[1] = self.P\n",
    "        self.supports = {}\n",
    "    \n",
    "    def n(self, X, prepare=False):\n",
    "        '''\n",
    "            Absolute prevalence of X in data basis D\n",
    "        '''\n",
    "        if prepare:\n",
    "            X = self.prepare_subset(X)\n",
    "        n = 0\n",
    "        for transaction in self.D:\n",
    "            if X.issubset(transaction): n += 1\n",
    "        # if self.verbose: self.latex(rf'$n(${X}$)={n}$')\n",
    "        return n\n",
    "\n",
    "    def support(self, *X, prepare=False):\n",
    "        '''\n",
    "            Relative prevalence of item(-s) in data basis D\n",
    "            If `prepare=True`, prepare the parameters `*X` via `self.prepare_subset()`.\n",
    "        '''\n",
    "        if prepare:\n",
    "            X = self.prepare_subset(X)\n",
    "        else:\n",
    "            X = self.tuple_to_set(X)\n",
    "        n_X = self.n(X,prepare=prepare)\n",
    "        \n",
    "        support = n_X/self.D_cardinality\n",
    "        \n",
    "        if self.verbose:\n",
    "            output = rf'$support(X = $ {X}$) = \\frac{{n(X)}}{{|D|}} = \\frac{{{n_X}}}{{{self.D_cardinality}}}$'\n",
    "            if support < self.min_support:\n",
    "                output = rf'<font color=\"#ccc\">' + output + rf'</font>'\n",
    "                \n",
    "            self.latex(output)\n",
    "        return support\n",
    "    \n",
    "    def confidence(self, *Z, prepare=False):\n",
    "        '''\n",
    "            $confidence(X \\to Y) = \\frac{n(X \\cup Y)}{n(X)}$\n",
    "            \n",
    "            If `prepare=True`, prepare the parameters `X` and `*y` via `self.prepare_subset()`.\n",
    "        '''\n",
    "        if prepare:\n",
    "            y = self.prepare_subset(Z[-1])\n",
    "            X = self.prepare_subset(Z[:-1])\n",
    "        else:\n",
    "            y = self.tuple_to_set(Z[-1]) # only last element\n",
    "            X = self.tuple_to_set(Z[:-1]) # every element but the last        \n",
    "\n",
    "        n_X = self.n(X,prepare=prepare)\n",
    "        \n",
    "        X_union_y = set().union(X, y)\n",
    "        n_X_union_y = self.n(X_union_y)\n",
    "        if n_X == 0:\n",
    "            confidence = None\n",
    "        else:\n",
    "            confidence = n_X_union_y/n_X\n",
    "        self.latex(rf'$confidence(X= $ {X} $ \\to Y=$ {y}$) = \\frac{{n(X \\cup Y)}}{{n(X)}} = \\frac{{{n_X_union_y}}}{{{n_X}}}$')\n",
    "        return confidence\n",
    "\n",
    "    def filter_P_by_min_support(self, k):\n",
    "        remove_sets = [X for X, support_value in self.supports.items() if support_value < self.min_support]\n",
    "                \n",
    "        P_snapshot_k = self.P_remaining_subsets[k]\n",
    "        self.P_remaining_subsets[k] = []\n",
    "        for subset in P_snapshot_k:\n",
    "            if subset not in remove_sets:\n",
    "                self.P_remaining_subsets[k].append(subset)\n",
    "        self.P_remaining_items = frozenset().union(*self.P_remaining_subsets[k])\n",
    "    \n",
    "    def apriori(self):\n",
    "        self.apriori_step_1()\n",
    "        # TODO implement step 2\n",
    "        \n",
    "    def apriori_step_1(self):\n",
    "        import itertools\n",
    "        \n",
    "        if self.verbose: self.latex(\"### Supports\")\n",
    "        k = 1\n",
    "        while(k <= len(self.P) and self.P_remaining_items):\n",
    "            if self.verbose: self.latex(f\"$k = {k}$\")\n",
    "            \n",
    "            self.P_remaining_subsets[k] = [frozenset(X) for X in itertools.combinations(list(self.P_remaining_items), k)]\n",
    "            for X in self.P_remaining_subsets[k]:\n",
    "                X_set = frozenset(self.tuple_to_set(X))\n",
    "                self.supports[X_set] = self.support(*X)\n",
    "            self.filter_P_by_min_support(k)\n",
    "            k += 1\n",
    "        frequent_subsets = [set([*X]) for X, support_value in self.supports.items() if support_value >= self.min_support]\n",
    "        if self.verbose:\n",
    "            frequent_subsets_output = \"### Frequent subsets $F$\"\n",
    "            frequent_subsets_output += '\\n' + ', '.join(str(subset) for subset in frequent_subsets)\n",
    "            self.latex(frequent_subsets_output)\n",
    "                    \n",
    "    def tuple_to_set(self, X):\n",
    "        '''\n",
    "            Helper function to convert a given n-tuple to an n-element set\n",
    "        '''\n",
    "        if isinstance(X, tuple):\n",
    "            X = set(X)\n",
    "        return X\n",
    "    def string_to_set(self, X):\n",
    "        '''\n",
    "            Helper function to convert a given string to a 1-element set\n",
    "        '''\n",
    "        if isinstance(X, str):\n",
    "            X = set([X])\n",
    "        return X\n",
    "    \n",
    "    def prepare_subset(self, X, lemmatization=None):\n",
    "        '''\n",
    "            Helper function to prepare a subset X.\n",
    "            If a tuple is given, convert the n-element tuple to an n-element set.\n",
    "            If a string is given, convert the string to a 1-element set.\n",
    "            If lemmatization is enabled, lemmatize the set.\n",
    "        '''\n",
    "        if lemmatization is None:\n",
    "            lemmatization = self.lemmatization   \n",
    "            \n",
    "        X = self.tuple_to_set(X)        \n",
    "        X = self.string_to_set(X)\n",
    "        \n",
    "        if lemmatization:\n",
    "            X = self.lemmatize_set(X)\n",
    "            \n",
    "        return X\n",
    "\n",
    "    def lemmatize_list_of_sets(self, D):\n",
    "        return [self.lemmatize_set(transaction) for transaction in D]\n",
    "    def lemmatize_set(self, set_of_items):\n",
    "        import collections\n",
    "        if(isinstance(set_of_items, collections.Hashable)):\n",
    "            return {self.l(item) for item in set_of_items}\n",
    "        else:\n",
    "            return set_of_items\n",
    "    def l(self, item):\n",
    "        '''\n",
    "         Helper function l(item) = lemmatize(item) returns the lemmatized version of a string item.\n",
    "        '''\n",
    "        import collections\n",
    "        if(isinstance(item, collections.Hashable)):\n",
    "            l = self.lemmatizer.lemmatize(item)\n",
    "        else:\n",
    "            l = item\n",
    "        return l\n",
    "\n",
    "    def latex(self, string):\n",
    "        '''\n",
    "        Helper function to output latex in verbose mode.\n",
    "        '''\n",
    "        if self.verbose:\n",
    "            from IPython.display import display, Markdown\n",
    "            display(Markdown(rf\"\"\"{string}\"\"\"))"
   ]
  },
  {
   "cell_type": "code",
   "execution_count": 106,
   "id": "heated-likelihood",
   "metadata": {},
   "outputs": [
    {
     "data": {
      "text/markdown": [
       "$support(X = $ {'strawberries', 'lemon juice'}$) = \\frac{n(X)}{|D|} = \\frac{3}{5}$"
      ],
      "text/plain": [
       "<IPython.core.display.Markdown object>"
      ]
     },
     "metadata": {},
     "output_type": "display_data"
    },
    {
     "data": {
      "text/markdown": [
       "$confidence(X= $ {'strawberries', 'lemon juice'} $ \\to Y=$ {'toothbrush'}$) = \\frac{n(X \\cup Y)}{n(X)} = \\frac{2}{3}$"
      ],
      "text/plain": [
       "<IPython.core.display.Markdown object>"
      ]
     },
     "metadata": {},
     "output_type": "display_data"
    },
    {
     "data": {
      "text/markdown": [
       "### Supports"
      ],
      "text/plain": [
       "<IPython.core.display.Markdown object>"
      ]
     },
     "metadata": {},
     "output_type": "display_data"
    },
    {
     "data": {
      "text/markdown": [
       "$k = 1$"
      ],
      "text/plain": [
       "<IPython.core.display.Markdown object>"
      ]
     },
     "metadata": {},
     "output_type": "display_data"
    },
    {
     "data": {
      "text/markdown": [
       "$support(X = $ {'strawberries'}$) = \\frac{n(X)}{|D|} = \\frac{4}{5}$"
      ],
      "text/plain": [
       "<IPython.core.display.Markdown object>"
      ]
     },
     "metadata": {},
     "output_type": "display_data"
    },
    {
     "data": {
      "text/markdown": [
       "$support(X = $ {'lemon juice'}$) = \\frac{n(X)}{|D|} = \\frac{4}{5}$"
      ],
      "text/plain": [
       "<IPython.core.display.Markdown object>"
      ]
     },
     "metadata": {},
     "output_type": "display_data"
    },
    {
     "data": {
      "text/markdown": [
       "$support(X = $ {'oatmilk'}$) = \\frac{n(X)}{|D|} = \\frac{3}{5}$"
      ],
      "text/plain": [
       "<IPython.core.display.Markdown object>"
      ]
     },
     "metadata": {},
     "output_type": "display_data"
    },
    {
     "data": {
      "text/markdown": [
       "<font color=\"#ccc\">$support(X = $ {'lentils'}$) = \\frac{n(X)}{|D|} = \\frac{1}{5}$</font>"
      ],
      "text/plain": [
       "<IPython.core.display.Markdown object>"
      ]
     },
     "metadata": {},
     "output_type": "display_data"
    },
    {
     "data": {
      "text/markdown": [
       "$support(X = $ {'toothbrush'}$) = \\frac{n(X)}{|D|} = \\frac{3}{5}$"
      ],
      "text/plain": [
       "<IPython.core.display.Markdown object>"
      ]
     },
     "metadata": {},
     "output_type": "display_data"
    },
    {
     "data": {
      "text/markdown": [
       "$k = 2$"
      ],
      "text/plain": [
       "<IPython.core.display.Markdown object>"
      ]
     },
     "metadata": {},
     "output_type": "display_data"
    },
    {
     "data": {
      "text/markdown": [
       "<font color=\"#ccc\">$support(X = $ {'strawberries', 'toothbrush'}$) = \\frac{n(X)}{|D|} = \\frac{2}{5}$</font>"
      ],
      "text/plain": [
       "<IPython.core.display.Markdown object>"
      ]
     },
     "metadata": {},
     "output_type": "display_data"
    },
    {
     "data": {
      "text/markdown": [
       "$support(X = $ {'strawberries', 'lemon juice'}$) = \\frac{n(X)}{|D|} = \\frac{3}{5}$"
      ],
      "text/plain": [
       "<IPython.core.display.Markdown object>"
      ]
     },
     "metadata": {},
     "output_type": "display_data"
    },
    {
     "data": {
      "text/markdown": [
       "<font color=\"#ccc\">$support(X = $ {'strawberries', 'oatmilk'}$) = \\frac{n(X)}{|D|} = \\frac{2}{5}$</font>"
      ],
      "text/plain": [
       "<IPython.core.display.Markdown object>"
      ]
     },
     "metadata": {},
     "output_type": "display_data"
    },
    {
     "data": {
      "text/markdown": [
       "$support(X = $ {'toothbrush', 'lemon juice'}$) = \\frac{n(X)}{|D|} = \\frac{3}{5}$"
      ],
      "text/plain": [
       "<IPython.core.display.Markdown object>"
      ]
     },
     "metadata": {},
     "output_type": "display_data"
    },
    {
     "data": {
      "text/markdown": [
       "<font color=\"#ccc\">$support(X = $ {'toothbrush', 'oatmilk'}$) = \\frac{n(X)}{|D|} = \\frac{2}{5}$</font>"
      ],
      "text/plain": [
       "<IPython.core.display.Markdown object>"
      ]
     },
     "metadata": {},
     "output_type": "display_data"
    },
    {
     "data": {
      "text/markdown": [
       "<font color=\"#ccc\">$support(X = $ {'lemon juice', 'oatmilk'}$) = \\frac{n(X)}{|D|} = \\frac{2}{5}$</font>"
      ],
      "text/plain": [
       "<IPython.core.display.Markdown object>"
      ]
     },
     "metadata": {},
     "output_type": "display_data"
    },
    {
     "data": {
      "text/markdown": [
       "$k = 3$"
      ],
      "text/plain": [
       "<IPython.core.display.Markdown object>"
      ]
     },
     "metadata": {},
     "output_type": "display_data"
    },
    {
     "data": {
      "text/markdown": [
       "<font color=\"#ccc\">$support(X = $ {'strawberries', 'toothbrush', 'lemon juice'}$) = \\frac{n(X)}{|D|} = \\frac{2}{5}$</font>"
      ],
      "text/plain": [
       "<IPython.core.display.Markdown object>"
      ]
     },
     "metadata": {},
     "output_type": "display_data"
    },
    {
     "data": {
      "text/markdown": [
       "### Frequent subsets $F$\n",
       "{'strawberries'}, {'lemon juice'}, {'oatmilk'}, {'toothbrush'}, {'strawberries', 'lemon juice'}, {'toothbrush', 'lemon juice'}"
      ],
      "text/plain": [
       "<IPython.core.display.Markdown object>"
      ]
     },
     "metadata": {},
     "output_type": "display_data"
    }
   ],
   "source": [
    "D = []\n",
    "D.append({'strawberries','lemon juice'})\n",
    "D.append({'strawberries', 'toothbrush', 'oatmilk', 'lentils', 'lemon juice'})\n",
    "D.append({'lemon juice', 'toothbrush', 'oatmilk'})\n",
    "D.append({'strawberries', 'lemon juice', 'toothbrush'})\n",
    "D.append({'strawberries', 'oatmilk'})\n",
    "\n",
    "association_analysis = AssociationAnalysis(D,lemmatization=True)\n",
    "association_analysis.support('strawberries', 'lemon juice',prepare=True)\n",
    "association_analysis.confidence('strawberries', 'lemon juice', 'toothbrush', prepare=True)\n",
    "association_analysis.apriori()"
   ]
  },
  {
   "cell_type": "code",
   "execution_count": null,
   "id": "cultural-scale",
   "metadata": {},
   "outputs": [],
   "source": []
  }
 ],
 "metadata": {
  "kernelspec": {
   "display_name": "Python 3",
   "language": "python",
   "name": "python3"
  },
  "language_info": {
   "codemirror_mode": {
    "name": "ipython",
    "version": 3
   },
   "file_extension": ".py",
   "mimetype": "text/x-python",
   "name": "python",
   "nbconvert_exporter": "python",
   "pygments_lexer": "ipython3",
   "version": "3.7.9"
  }
 },
 "nbformat": 4,
 "nbformat_minor": 5
}
